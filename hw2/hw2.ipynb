{
 "cells": [
  {
   "cell_type": "markdown",
   "metadata": {
    "deletable": false,
    "editable": false,
    "nbgrader": {
     "cell_type": "markdown",
     "checksum": "2d557599310b9a82c759a221759df303",
     "grade": false,
     "grade_id": "cell-c9cd9e550239e812",
     "locked": true,
     "schema_version": 3,
     "solution": false,
     "task": false
    }
   },
   "source": [
    "# Assignment 1 (Total Points: 10) <a class=\"anchor\" id=\"top\"></a>\n",
    "\n",
    "\n",
    "## Submission instructions:\n",
    "\n",
    "- The assignment is designed for teams of two students.\n",
    "- Add your solutions to the cells with the following comment `# YOUR CODE HERE`, which denotes that these sections are graded.\n",
    "- The notebook that you will submit has to have the student ids, separated by underscores (E.g., `12341234_12341234.ipynb`). \n",
    "- This will be parsed by a regexp, so please double check your filename.\n",
    "- Only one member of each group should submit the notebook file to canvas.\n",
    "- Make sure to check that your notebook runs before submission. A quick way to do this is to restart the kernel and run all the cells.  \n",
    "- Please do not delete cells. Removing cells can lead to grade deduction. You are allowed to add cells for performing tests or adding auxiliary methods in the given cells.\n",
    "- Note, that you are not allowed to use Google Colab.\n",
    "- Add your name and e-mail in the following cell:"
   ]
  },
  {
   "cell_type": "code",
   "execution_count": null,
   "metadata": {},
   "outputs": [],
   "source": [
    "## Add your information in here.\n",
    "NAME = \"\"\n",
    "NAME2 = \"\"\n",
    "EMAIL = \"\"\n",
    "EMAIL2 = \"\""
   ]
  },
  {
   "cell_type": "markdown",
   "metadata": {
    "deletable": false,
    "editable": false,
    "nbgrader": {
     "cell_type": "markdown",
     "checksum": "d368c4d38f963224c7acbf42792daaf6",
     "grade": false,
     "grade_id": "cell-4124ca27ec04260e",
     "locked": true,
     "schema_version": 3,
     "solution": false,
     "task": false
    }
   },
   "source": [
    "**Assignment instructions Goals**:\n",
    "\n",
    "In this assignment, you will program several algorithms related to BombKnightSudoku (a variant of Sudoku) on a $(k*k)^2$ size grid, for varying sizes of $k$. You will use several problem solving and search methods.\n",
    "\n",
    "The homework assignment consists of several parts (a)–(d). You get 1 point for free. For the rest parts you need to develop the following algorithms for solving sudoku game:\n",
    "\n",
    " - Part (a) 3pts: solving puzzles with propagation\n",
    " - Part (b) 1pt as a bonus: solving puzzles using SAT\n",
    " - Part (c) 4pts: solving puzzles using ASP\n",
    " - Part (d) 2pts: generating puzzles with unique solutions using ASP (or you may opt to solve an easier variant for a maximum of 1 point)\n",
    "\n",
    "    \n",
    "**Resources**: \n",
    "\n",
    "- Literature:\n",
    "- Russell, S., & Norvig, P. (2002). Artificial intelligence: a modern approach. [http://aima.cs.berkeley.edu/]\n",
    "- Gebser, M., Kaminski, R., Kaufmann, B., & Schaub, T. (2012). Answer set solving in practice. Synthesis lectures on artificial intelligence and machine learning, 6(3), 1-238. [https://potassco.org/book/]\n",
    "- Van Harmelen, F., Lifschitz, V., & Porter, B. (Eds.). (2008). Handbook of knowledge representation. Elsevier.\n",
    "\n",
    "**Game information: BombKnightSudoku's**\n",
    "\n",
    "Here follows a description of inputs and solutions for **BombKnightSudoku's**. These notions are similar (but not exactly the same) as for the Sudoku's that you might have seen elsewhere, generalized to arbitrary values of k (typically, $k=3$).\n",
    "\n",
    "An input consists of a $k$-by-$k$ grid of blocks, where each consisting of a $k$-by-$k$ grid of cells, forming a $k*k$-by-$k*k$ grid of cells. Each cell can (but must not) contain a value between 1 and $k*k$.\n",
    "\n",
    "An example is the following grid, for $k$=3, written out as $k*k$ lines, each consisting of $k*k$ numbers, separated by spaces. Here the value $0$ represents that a cell does not contain a value between $1$ and $k*k$.\n",
    "\n",
    "```\n",
    "0 0 0 0 0 0 0 0 0\n",
    "0 3 0 0 8 0 0 0 0\n",
    "0 0 0 0 0 0 0 0 0\n",
    "0 0 0 0 4 0 0 0 5\n",
    "0 0 0 0 0 0 0 2 7\n",
    "0 0 0 0 0 0 3 0 0\n",
    "0 0 0 0 0 0 9 0 0\n",
    "0 0 0 0 5 6 0 0 0\n",
    "0 0 0 0 0 0 0 0 0\n",
    "```\n",
    "\n",
    "Here is the same input, where now the $k$-by-$k$ blocks are separated from each other with whitespace.\n",
    "\n",
    "```\n",
    "0 0 0  0 0 0  0 0 0\n",
    "0 3 0  0 8 0  0 0 0\n",
    "0 0 0  0 0 0  0 0 0\n",
    "\n",
    "0 0 0  0 4 0  0 0 5\n",
    "0 0 0  0 0 0  0 2 7\n",
    "0 0 0  0 0 0  3 0 0\n",
    "\n",
    "0 0 0  0 0 0  9 0 0\n",
    "0 0 0  0 5 6  0 0 0\n",
    "0 0 0  0 0 0  0 0 0\n",
    "```\n",
    "\n",
    "A solution for a sudoku input is a $k*k$-by-$k*k$ grid (for the same $k$), where:\n",
    "\n",
    " - Each cell contains a value between 1 and $k*k$.\n",
    "If a cell ($i$,$j$) contains a value u in the input, then the cell ($i$,$j$) in the solution must contain the same value u.\n",
    " - Each two different cells in the same row must contain different values.\n",
    " - Each two different cells in the same column must contain different values.\n",
    " - Each two different cells in the same $k*k$ block must contain different values.\n",
    " - Each two different cells that are directly adjacent (horizontally, diagonally or vertically) must contain different values. In other words, a cell cannot contain the same value as any of the eight cells surrounding it.\n",
    " - Each two different cells that can be reached from each other with a single knight's move (as in Chess) must contain different values.\n",
    "(The last two constraints are what distinguish BombKnightSudoku's from regular Sudoku's.)\n",
    "\n",
    "For example, a solution for the input mentioned above is the following:\n",
    "\n",
    "```\n",
    "5 6 2 7 3 4 1 8 9\n",
    "7 3 4 1 8 9 5 6 2\n",
    "1 8 9 5 6 2 7 3 4\n",
    "6 2 7 3 4 1 8 9 5\n",
    "3 4 1 8 9 5 6 2 7\n",
    "8 9 5 6 2 7 3 4 1\n",
    "2 7 3 4 1 8 9 5 6\n",
    "4 1 8 9 5 6 2 7 3\n",
    "9 5 6 2 7 3 4 1 8\n",
    "```\n",
    "\n",
    "**Representation of inputs and outputs**\n",
    "\n",
    "Inputs are represented as a list of lists of numbers.\n",
    "For example, the BombKnightSudoku input above is represented as:\n",
    "\n",
    "```\n",
    "input =\n",
    "    [[0, 0, 0, 0, 0, 0, 0, 0, 0],\n",
    "     [0, 3, 0, 0, 8, 0, 0, 0, 0],\n",
    "     [0, 0, 0, 0, 0, 0, 0, 0, 0],\n",
    "     [0, 0, 0, 0, 4, 0, 0, 0, 5],\n",
    "     [0, 0, 0, 0, 0, 0, 0, 2, 7],\n",
    "     [0, 0, 0, 0, 0, 0, 3, 0, 0],\n",
    "     [0, 0, 0, 0, 0, 0, 9, 0, 0],\n",
    "     [0, 0, 0, 0, 5, 6, 0, 0, 0],\n",
    "     [0, 0, 0, 0, 0, 0, 0, 0, 0]]\n",
    "```\n",
    "\n",
    "Solutions are represented similarly, for example:\n",
    "\n",
    "```\n",
    "solution =\n",
    "    [[5, 6, 2, 7, 3, 4, 1, 8, 9],\n",
    "     [7, 3, 4, 1, 8, 9, 5, 6, 2],\n",
    "     [1, 8, 9, 5, 6, 2, 7, 3, 4],\n",
    "     [6, 2, 7, 3, 4, 1, 8, 9, 5],\n",
    "     [3, 4, 1, 8, 9, 5, 6, 2, 7],\n",
    "     [8, 9, 5, 6, 2, 7, 3, 4, 1],\n",
    "     [2, 7, 3, 4, 1, 8, 9, 5, 6],\n",
    "     [4, 1, 8, 9, 5, 6, 2, 7, 3],\n",
    "     [9, 5, 6, 2, 7, 3, 4, 1, 8]]\n",
    "```\n",
    "\n",
    "Note that some test_inputs are given in the auxiliary python file which are used for testing your methods."
   ]
  },
  {
   "cell_type": "markdown",
   "metadata": {
    "deletable": false,
    "editable": false,
    "nbgrader": {
     "cell_type": "markdown",
     "checksum": "00f4df288f322408bea9e433cabba249",
     "grade": false,
     "grade_id": "cell-7e1269eadb9b34d9",
     "locked": true,
     "schema_version": 3,
     "solution": false,
     "task": false
    }
   },
   "source": [
    "The necessary libraries for developing all necessary code can be found in the following block:"
   ]
  },
  {
   "cell_type": "code",
   "execution_count": null,
   "metadata": {
    "deletable": false,
    "editable": false,
    "nbgrader": {
     "cell_type": "code",
     "checksum": "3c924b5f790505c18d8959211840fe74",
     "grade": false,
     "grade_id": "cell-e7f0ef2ab554b92a",
     "locked": true,
     "schema_version": 3,
     "solution": false,
     "task": false
    }
   },
   "outputs": [],
   "source": [
    "# Necessary libraries that will be employed\n",
    "import itertools\n",
    "\n",
    "from copy import deepcopy\n",
    "from dataclasses import dataclass\n",
    "from typing import List\n",
    "from sudoku_func import *\n",
    "#!{sys.executable} -m pip install clingo\n",
    "#!{sys.executable} -m pip install python-sat\n",
    "#!{sys.executable} -m pip install codetiming\n",
    "import clingo\n",
    "import pysat\n",
    "from pysat.formula import CNF\n",
    "from pysat.solvers import MinisatGH"
   ]
  },
  {
   "cell_type": "markdown",
   "metadata": {
    "deletable": false,
    "editable": false,
    "nbgrader": {
     "cell_type": "markdown",
     "checksum": "aca797a36a7d74a2f5b015879a4d2d68",
     "grade": false,
     "grade_id": "cell-7428e12ed184408b",
     "locked": true,
     "schema_version": 3,
     "solution": false,
     "task": false
    }
   },
   "source": [
    "## (a): solving puzzles with propagation\n",
    "\n",
    "Implement an algorithm that takes as input a BombKnightSudoku input (for arbitrary `k`), and that outputs a generator that iterates over **all** solutions for this input.\n",
    "\n",
    "For this assignment, your algorithm should use an *exhaustive search with propagation (inference)* approach (see Section 6.3 from the AI book by Russell and Norvig). That is, it should traverse a search tree, and it should perform propagation at each of the nodes in the search tree.\n",
    "\n",
    "Before starting coding the core part of this algorithm, you should develop several methods that will help you coding the propagation (for instance a method for finding uncertain cells or a function that checks if you have found a solution, a method that checks for possible contradictions and so forth). \n",
    "\n",
    "Finally, the code that calls propagation recursively is given later."
   ]
  },
  {
   "cell_type": "markdown",
   "metadata": {},
   "source": [
    "Firstly, you should define a function that given a list with possible values at the current state of the search returns the first found cell where there is still more than one possibility.\n",
    "\n",
    "* Inputs: \n",
    "    * sudoku_possible_values: is a list containing all the possible values at the current state of the search. This variable is a 3d list (list(list(list(int)))) since contains the possible values for all input puzzles (test_inputs from sudoku_func.py).\n",
    "    * k: the size of the grid.\n",
    "* Output:\n",
    "    * the first-found cell.  "
   ]
  },
  {
   "cell_type": "code",
   "execution_count": null,
   "metadata": {
    "deletable": false,
    "nbgrader": {
     "cell_type": "code",
     "checksum": "bbf19056c81dc07ceb5fe2ae99001915",
     "grade": false,
     "grade_id": "cell-821a87125f0afd92",
     "locked": false,
     "schema_version": 3,
     "solution": true,
     "task": false
    }
   },
   "outputs": [],
   "source": [
    "def find_uncertain_cell(sudoku_possible_values, k):    \n",
    "        \"\"\"\n",
    "        Finds a cell where there is still more than one possibility.\n",
    "        Inputs: \n",
    "            - sudoku_possible_values: all the possible values from the current step of the game.\n",
    "            - k: the size of the grid.\n",
    "        Output:\n",
    "            - the found cell.     \n",
    "        \"\"\"\n",
    "\n",
    "        # YOUR CODE HERE\n",
    "        raise NotImplementedError()"
   ]
  },
  {
   "cell_type": "markdown",
   "metadata": {},
   "source": [
    "Next, you should define a function that checks whether you have found a solution or not which should be called at each current state of the search.\n",
    "\n",
    "* Input: \n",
    "    * sudoku_possible_values: is a list containing all the possible values at the current state of the search. This variable is a 3d list (list(list(list(int)))) since contains the possible values for all input puzzles (test_inputs from sudoku_func.py).\n",
    "* Output:\n",
    "    * A boolean variable which takes True if a solution is found or False otherwise."
   ]
  },
  {
   "cell_type": "code",
   "execution_count": null,
   "metadata": {
    "deletable": false,
    "nbgrader": {
     "cell_type": "code",
     "checksum": "d3fe49d2bd0e85e9a223738b2dab08f2",
     "grade": false,
     "grade_id": "cell-1dee4c4c3585d194",
     "locked": false,
     "schema_version": 3,
     "solution": true,
     "task": false
    }
   },
   "outputs": [],
   "source": [
    "def found_solution(sudoku_possible_values):\n",
    "        \"\"\"\n",
    "        Checks if the search found a solution.\n",
    "        Input: \n",
    "            - sudoku_possible_values: all the possible values from the current step of the game.\n",
    "        Output:\n",
    "            - A boolean variable which takes True if a solution is found or False otherwise.\n",
    "        \"\"\"\n",
    "        # YOUR CODE HERE\n",
    "        raise NotImplementedError()"
   ]
  },
  {
   "cell_type": "markdown",
   "metadata": {
    "deletable": false,
    "editable": false,
    "nbgrader": {
     "cell_type": "markdown",
     "checksum": "3516326ce1d695550c89137517aff3cf",
     "grade": false,
     "grade_id": "cell-d0bc4c6ec8afcacc",
     "locked": true,
     "schema_version": 3,
     "solution": false,
     "task": false
    }
   },
   "source": [
    "Then, you should fill the following function with all possible contradictions that you should take into account.\n",
    "\n",
    "* Inputs: \n",
    "    * sudoku_possible_values: is a list containing all the possible values at the current state of the search. This variable is a 3d list (list(list(list(int)))) since contains the possible values for all input puzzles (test_inputs from sudoku_func.py).\n",
    "    * k: the size of the grid.\n",
    "* Output:\n",
    "    * A boolean variable: True if we run into a contradiction and False otherwise.\n",
    "    \n",
    "For instance, the first contradiction is the following: Contradiction type 1: some cell has no further possible values. If yes then you should return True. \n",
    "\n",
    "Then, you should come up with extra contradictions."
   ]
  },
  {
   "cell_type": "code",
   "execution_count": null,
   "metadata": {
    "deletable": false,
    "nbgrader": {
     "cell_type": "code",
     "checksum": "f85939ec87dcebbd1bd33c8c6ed71dba",
     "grade": false,
     "grade_id": "cell-158784836524a39d",
     "locked": false,
     "schema_version": 3,
     "solution": true,
     "task": false
    }
   },
   "outputs": [],
   "source": [
    "def contradiction(sudoku_possible_values, k):            \n",
    "        \n",
    "        \"\"\"\n",
    "        Checks if the search ran into a contradiction.\n",
    "        Inputs: \n",
    "            - sudoku_possible_values: all the possible values from the current step of the game.\n",
    "            - k: the size of the grid.\n",
    "        Output:\n",
    "            - A boolean variable: True if we run into a contradiction and False otherwise.\n",
    "        \"\"\"\n",
    "        \n",
    "        # Contradiction type 1: some cell has no further possible values. If yes then you should return True.\n",
    "        # Further contradictions. (What other contradictions should you consider here?)”\n",
    "        \n",
    "        # YOUR CODE HERE\n",
    "        raise NotImplementedError()\n",
    "        # Otherwise: no contradiction is found\n",
    "        return False"
   ]
  },
  {
   "cell_type": "markdown",
   "metadata": {
    "deletable": false,
    "editable": false,
    "nbgrader": {
     "cell_type": "markdown",
     "checksum": "b98f965cab9f318690f0da22dacbbd48",
     "grade": false,
     "grade_id": "cell-587a2718b24895ad",
     "locked": true,
     "schema_version": 3,
     "solution": false,
     "task": false
    }
   },
   "source": [
    "Next, you should fill propagate function where you will add the functionality of the solver. The goal is to remove the possibilities in a tile that contradict the sudoku rules.\n",
    "\n",
    "* Inputs: \n",
    "    * sudoku_possible_values: is a list containing all the possible values at the current state of the search. This variable is a 3d list (list(list(list(int)))) since contains the possible values for all input puzzles (test_inputs from sudoku_func.py).\n",
    "    * k: the size of the grid.\n",
    "* Output:\n",
    "    * sudoku_possible_values: The updated puzzle after the application of propagation."
   ]
  },
  {
   "cell_type": "code",
   "execution_count": null,
   "metadata": {
    "deletable": false,
    "nbgrader": {
     "cell_type": "code",
     "checksum": "829d0367d620554563f1f9bb252c9862",
     "grade": false,
     "grade_id": "cell-3415cc791e17a8cc",
     "locked": false,
     "schema_version": 3,
     "solution": true,
     "task": false
    }
   },
   "outputs": [],
   "source": [
    "def propagate(sudoku_possible_values, k):\n",
    "        \"\"\"\n",
    "        Carry out propagation.\n",
    "        Inputs: \n",
    "            - sudoku_possible_values: all the possible values from the current step of the game.\n",
    "            - k: the size of the grid.\n",
    "        Output:\n",
    "            - sudoku_possible_values: The updated puzzle after the application of propagation.\n",
    "        \"\"\"\n",
    "    \n",
    "        # YOUR CODE HERE\n",
    "        raise NotImplementedError()"
   ]
  },
  {
   "cell_type": "markdown",
   "metadata": {
    "deletable": false,
    "editable": false,
    "nbgrader": {
     "cell_type": "markdown",
     "checksum": "f7081139994bc9da4d01498312da6e0e",
     "grade": false,
     "grade_id": "cell-f7ff423939744977",
     "locked": true,
     "schema_version": 3,
     "solution": false,
     "task": false
    }
   },
   "source": [
    "The following method is a recursive function to solve the sudoku, using propagation.\n",
    "\n",
    "* Inputs: \n",
    "    * sudoku_possible_values: is a list containing all the possible values at the current state of the search. This variable is a 3d list (list(list(list(int)))) since contains the possible values for all input puzzles (test_inputs from sudoku_func.py).\n",
    "    * k the size of the grid.\n",
    "* Output:\n",
    "    *  Returns a generator with the solved puzzle. More info about the generators and the way that they work can be found in the following [link](https://stackabuse.com/python-generators)."
   ]
  },
  {
   "cell_type": "code",
   "execution_count": null,
   "metadata": {
    "deletable": false,
    "editable": false,
    "nbgrader": {
     "cell_type": "code",
     "checksum": "ff27569552a1f0ba98da8c5f0a72c87d",
     "grade": false,
     "grade_id": "cell-39d88b95de03e06b",
     "locked": true,
     "schema_version": 3,
     "solution": false,
     "task": false
    }
   },
   "outputs": [],
   "source": [
    "def solve_recursively(sudoku_possible_values, k):\n",
    "    \n",
    "        \"\"\"\n",
    "        Recursive function to solve the sudoku, using propagation\n",
    "        Inputs: \n",
    "            - sudoku_possible_values: all the possible values from the current step of the game.\n",
    "            - k: the size of the grid.\n",
    "        Output:\n",
    "            - Returns a generator with the solved puzzle.\n",
    "        \"\"\"\n",
    "        # Check if we ran into a contradiction.\n",
    "        if contradiction(sudoku_possible_values, k):\n",
    "            return []\n",
    "        # Check if we have a valid solution\n",
    "        if found_solution(sudoku_possible_values):\n",
    "            yield sudoku_possible_values\n",
    "        else:\n",
    "            # Propagate\n",
    "            sudoku_possible_values = propagate(sudoku_possible_values, k)\n",
    "            # Check for contradictions\n",
    "            if contradiction(sudoku_possible_values, k):\n",
    "                return []\n",
    "            if found_solution(sudoku_possible_values):\n",
    "                yield sudoku_possible_values\n",
    "            else:\n",
    "                # Find a cell that is still uncertain\n",
    "                uncertain_cell = find_uncertain_cell(sudoku_possible_values, k)\n",
    "                (row, col) = uncertain_cell\n",
    "                # Recurse on the different values for cell (row, col)\n",
    "                possibilities = sudoku_possible_values[row][col]\n",
    "                for possibility in possibilities:\n",
    "                    sudoku_possible_values_copy = deepcopy(\n",
    "                        sudoku_possible_values\n",
    "                    )\n",
    "                    sudoku_possible_values_copy[row][col] = [possibility]\n",
    "                    for solution in solve_recursively(\n",
    "                            sudoku_possible_values_copy,\n",
    "                            k\n",
    "                    ):\n",
    "                        yield solution                "
   ]
  },
  {
   "cell_type": "markdown",
   "metadata": {},
   "source": [
    "Finally, call the recursive method from the previous cell to solve the game using propagation.\n",
    "\n",
    "Carry out constraint propagation (as part of a backtracking search algorithm for solving a sudoku input), by removing possible values for some cells based on the remaining possible values for other cells.\n",
    "\n",
    "* Parameters:\n",
    "    * sudoku (list(list(list(int)))): A list containing all the input puzzles (found in sudoku_func.py)\n",
    "    * k (int): The dimension of the sudoku input.\n",
    "\n",
    "* Returns:\n",
    "    * A generator containing the solved puzzle."
   ]
  },
  {
   "cell_type": "code",
   "execution_count": null,
   "metadata": {
    "deletable": false,
    "editable": false,
    "nbgrader": {
     "cell_type": "code",
     "checksum": "de897be1d9ef6fa2730c46fd5814acca",
     "grade": false,
     "grade_id": "cell-44b1d152aee88813",
     "locked": true,
     "schema_version": 3,
     "solution": false,
     "task": false
    }
   },
   "outputs": [],
   "source": [
    "def solve_sudoku_propagate(sudoku,k):\n",
    "    \"\"\"\n",
    "    Carry out constraint propagation (as part of a backtracking search algorithm for solving a sudoku input), by removing possible values for some cells based on the remaining possible values for other cells.\n",
    "    Inputs:\n",
    "        sudoku (list(list(list(int)))): A list containing all the input puzzles (found in sudoku_func.py)\n",
    "        k (int): The dimension of the sudoku input.\n",
    "\n",
    "    Outpus:\n",
    "        A generator that contain the solved puzzle.\n",
    "    \"\"\"\n",
    "    # Initialize the data structure of sudoku_possible_values\n",
    "    sudoku_possible_values = []\n",
    "    for row in sudoku:\n",
    "        row_possibilities = []\n",
    "        for element in row:\n",
    "            if element == 0:\n",
    "                possibilities = list(range(1, k**2+1))\n",
    "            else:\n",
    "                possibilities = [element]\n",
    "            row_possibilities.append(possibilities)\n",
    "        sudoku_possible_values.append(row_possibilities)\n",
    "\n",
    "    sudoku_possible_values = propagate(sudoku_possible_values, k)\n",
    "\n",
    "    # Solve the sudoku by recursion\n",
    "    for solution in solve_recursively(sudoku_possible_values, k):\n",
    "        # Transform the data structure into a solution, and yield it\n",
    "        solved_sudoku = [\n",
    "            [solution[row][col][0] for col in range(0, k**2)]\n",
    "            for row in range(0, k**2)\n",
    "        ]\n",
    "        yield solved_sudoku"
   ]
  },
  {
   "cell_type": "markdown",
   "metadata": {
    "deletable": false,
    "editable": false,
    "nbgrader": {
     "cell_type": "markdown",
     "checksum": "c0cfab4a27c81129f061b8e0c79ea055",
     "grade": false,
     "grade_id": "cell-9ce2705cab948d73",
     "locked": true,
     "schema_version": 3,
     "solution": false,
     "task": false
    }
   },
   "source": [
    "The following code meants to test whether your provided solution has the same number of possibilities as the groundtruth for the puzzles."
   ]
  },
  {
   "cell_type": "code",
   "execution_count": null,
   "metadata": {
    "deletable": false,
    "editable": false,
    "nbgrader": {
     "cell_type": "code",
     "checksum": "6505b8b02d2b2d8a242a6057a94fcaec",
     "grade": true,
     "grade_id": "cell-61d968bd0a091d73",
     "locked": true,
     "points": 3,
     "schema_version": 3,
     "solution": false,
     "task": false
    }
   },
   "outputs": [],
   "source": [
    "# Automatic checking of your code. Calls the generator and checks the solutions.\n",
    "from sudoku_func import check_num_solutions\n",
    "from sudoku_func import test_inputs\n",
    "solver = solve_sudoku_propagate\n",
    "## Run tests\n",
    "for num, test_input in enumerate(test_inputs, 1):\n",
    "    print(\"- Testing on test input #{}\".format(num))\n",
    "    assert check_num_solutions(test_input.sudoku, test_input.k, test_input.num_solutions,solver) == True\n",
    "    print(\"  Found exactly the set of correct solutions\")"
   ]
  },
  {
   "cell_type": "markdown",
   "metadata": {
    "deletable": false,
    "editable": false,
    "nbgrader": {
     "cell_type": "markdown",
     "checksum": "2e3b58fdd855986ff012210d05731cdc",
     "grade": false,
     "grade_id": "cell-8cf2970bd6c259f0",
     "locked": true,
     "schema_version": 3,
     "solution": false,
     "task": false
    }
   },
   "source": [
    "## (b): solving puzzles using SAT (bonus part)\n",
    "\n",
    "Again, implement an algorithm that takes as input a BombKnightSudoku input (for arbitrary `k`), and that outputs a generator that iterates over **all** solutions for this input.\n",
    "\n",
    "For this assignment, your algorithm should use the approach of encoding the BombKnightSudoku input into a propositional CNF formula &varphi;, calling a SAT solver to find satisfying assignments for &varphi;, and translating these assignments to solutions for the BombKnightSudoku input."
   ]
  },
  {
   "cell_type": "code",
   "execution_count": null,
   "metadata": {
    "deletable": false,
    "nbgrader": {
     "cell_type": "code",
     "checksum": "9fc63760a0d7f959bf78b8a6d6fa3573",
     "grade": false,
     "grade_id": "cell-940a32cfcc687489",
     "locked": false,
     "schema_version": 3,
     "solution": true,
     "task": false
    }
   },
   "outputs": [],
   "source": [
    "def solve_sudoku_SAT(sudoku,k):\n",
    "    \"\"\"\n",
    "    Solve a sudoku input by encoding the problem into SAT, calling a SAT solver, and retrieving the solution for the sudoku input from a satisfying truth assignment given by the SAT solver.\n",
    "\n",
    "    Parameters:\n",
    "        sudoku (list(list(list(int)))): A list containing all the input puzzles (found in sudoku_func.py)\n",
    "        k (int): The dimension of the sudoku input.\n",
    "\n",
    "    Returns:\n",
    "        A generator using yield instead of returning a (list(list(list(int)))).\n",
    "    \"\"\"\n",
    "\n",
    "    # YOUR CODE HERE\n",
    "    raise NotImplementedError()"
   ]
  },
  {
   "cell_type": "markdown",
   "metadata": {
    "deletable": false,
    "editable": false,
    "nbgrader": {
     "cell_type": "markdown",
     "checksum": "9950d4a91d93007a7bd58d726d88b382",
     "grade": false,
     "grade_id": "cell-d37310c039b4af45",
     "locked": true,
     "schema_version": 3,
     "solution": false,
     "task": false
    }
   },
   "source": [
    "The following code meants to test whether your provided solution has the same number of possibilities as the groundtruth for the puzzles."
   ]
  },
  {
   "cell_type": "code",
   "execution_count": null,
   "metadata": {
    "deletable": false,
    "editable": false,
    "nbgrader": {
     "cell_type": "code",
     "checksum": "4a95ff88c99813ee6fb332f191c0ad73",
     "grade": true,
     "grade_id": "cell-4f0c31f4bfc245aa",
     "locked": true,
     "points": 1,
     "schema_version": 3,
     "solution": false,
     "task": false
    }
   },
   "outputs": [],
   "source": [
    "# Automatic checking of your code. Calls the generator and checks the solutions. \n",
    "from sudoku_func import check_num_solutions\n",
    "from sudoku_func import test_inputs\n",
    "solver = solve_sudoku_SAT\n",
    "\n",
    "## Run tests\n",
    "for num, test_input in enumerate(test_inputs, 1):\n",
    "    print(\"- Testing on test input #{}\".format(num))\n",
    "    assert check_num_solutions(test_input.sudoku, test_input.k, test_input.num_solutions,solver) == True\n",
    "    print(\"  Found exactly the set of correct solutions\")"
   ]
  },
  {
   "cell_type": "markdown",
   "metadata": {
    "deletable": false,
    "editable": false,
    "nbgrader": {
     "cell_type": "markdown",
     "checksum": "f27b8c9f0672e2aa1c87c95a48134a7e",
     "grade": false,
     "grade_id": "cell-32fff59253638b0d",
     "locked": true,
     "schema_version": 3,
     "solution": false,
     "task": false
    }
   },
   "source": [
    "## (c): solving puzzles using ASP\n",
    "\n",
    "Yet again, implement an algorithm that takes as input a BombKnightSudoku input (for arbitrary `k`), and that outputs a generator that iterates over **all** solutions for this input.\n",
    "\n",
    "For this assignment, your algorithm should use the approach of encoding the BombKnightSudoku input into an answer set program *P*, calling an ASP solver (i.e., clingo) to find answer sets for *P*, and translating these answer sets to solutions for the BombKnightSudoku input."
   ]
  },
  {
   "cell_type": "code",
   "execution_count": null,
   "metadata": {
    "deletable": false,
    "nbgrader": {
     "cell_type": "code",
     "checksum": "8ad2c78cf0537c74b77fc648a486fa12",
     "grade": false,
     "grade_id": "cell-e08fbc765eba6e6d",
     "locked": false,
     "schema_version": 3,
     "solution": true,
     "task": false
    }
   },
   "outputs": [],
   "source": [
    "def solve_sudoku_ASP(sudoku,k):\n",
    "    \"\"\"\n",
    "    Solve a sudoku input by encoding the problem into ASP, calling an ASP solver, and retrieving the solution for the sudoku input from an answer set given by the ASP solver.\n",
    "\n",
    "    Parameters:\n",
    "        sudoku (list(list(list(int)))): A list containing all the input puzzles (found in sudoku_func.py)\n",
    "        k (int): The dimension of the sudoku input.\n",
    "\n",
    "    Returns:\n",
    "        A generator using yield instead of returning a (list(list(list(int)))).\n",
    "    \"\"\"\n",
    "\n",
    "    # YOUR CODE HERE\n",
    "    raise NotImplementedError()"
   ]
  },
  {
   "cell_type": "markdown",
   "metadata": {
    "deletable": false,
    "editable": false,
    "nbgrader": {
     "cell_type": "markdown",
     "checksum": "7637eb06186af028f7ba881995a66477",
     "grade": false,
     "grade_id": "cell-084d8b2db1352878",
     "locked": true,
     "schema_version": 3,
     "solution": false,
     "task": false
    }
   },
   "source": [
    "The following code meants to test whether your provided solution has the same number of possibilities as the groundtruth for the puzzles."
   ]
  },
  {
   "cell_type": "code",
   "execution_count": null,
   "metadata": {
    "deletable": false,
    "editable": false,
    "nbgrader": {
     "cell_type": "code",
     "checksum": "e663db5d38b20f7c5a6b6c3f4c018d3d",
     "grade": true,
     "grade_id": "cell-d58b222e808c0f0e",
     "locked": true,
     "points": 4,
     "schema_version": 3,
     "solution": false,
     "task": false
    }
   },
   "outputs": [],
   "source": [
    "# Automatic checking of your code. Calls the generator and checks the solutions.\n",
    "from sudoku_func import check_num_solutions\n",
    "from sudoku_func import test_inputs\n",
    "solver = solve_sudoku_ASP\n",
    "\n",
    "## Run tests\n",
    "for num, test_input in enumerate(test_inputs, 1):\n",
    "    print(\"- Testing on test input #{}\".format(num))\n",
    "    assert check_num_solutions(test_input.sudoku, test_input.k, test_input.num_solutions,solver) == True\n",
    "    print(\"  Found exactly the set of correct solutions\")"
   ]
  },
  {
   "cell_type": "markdown",
   "metadata": {
    "deletable": false,
    "editable": false,
    "nbgrader": {
     "cell_type": "markdown",
     "checksum": "982c79c0db6769911dfe98b412fa7e83",
     "grade": false,
     "grade_id": "cell-3786c80eebd72d37",
     "locked": true,
     "schema_version": 3,
     "solution": false,
     "task": false
    }
   },
   "source": [
    "## (d): generating puzzles with unique solutions using ASP\n",
    "\n",
    "Implement an algorithm that generates `9`-by-`9` BombKnightSudoku inputs (i.e., `k=3`) that:\n",
    "1. have exactly 10 cells filled with a number between `1` and `9`,\n",
    "1. and have a unique solution.\n",
    "That is, your algorithm should output a generator that iterates over BombKnightSudoku inputs with the required properties.\n",
    "\n",
    "Your algorithm should use the approach of translating this problem to an answer set program *P*, calling an ASP solver (i.e., clingo) to find answer sets for *P*, and translating these answer sets to BombKnightSudoku inputs with the required properties.\n",
    "\n",
    "(To be clear: you may not 'hardcode' a list of BombKnightSudoku inputs in the answer set program *P*.)\n",
    "\n",
    "There are two variants of this assignment: a harder variant (d.I) and an easier variant (d.II). You may choose which variant you would like to solve.\n",
    "If you opt for the harder variant (d.I), you can get a maximum of 3 points for this assignment.\n",
    "If you opt for the easier variant (d.II), you can get a maximum of 2 points for this assignment.\n",
    "\n",
    "\n",
    "### (d.I) Harder variant (2pts):\n",
    "\n",
    "To solve the harder variant, your answer set program *P* should be such that for **each** BombKnightSudoku input *I* with the required properties, there is an answer set of *P* that corresponds to *I*. For this, you should express in *P* the constraints 1. (that exactly 10 cells are filled) and 2. (that the input has a unique solution).\n",
    "\n",
    "*Hint:* Use the technique of saturation to express constraint 2.\n",
    "\n",
    "### (d.II) Easier variant (1pt):\n",
    "\n",
    "To solve the easier variant, your answer set program *P* only needs to be such that for **a subset of** BombKnightSudoku inputs *I* with the required properties, there is an answer set of *P* that corresponds to *I*. For this, you could express in *P*, in addition to the constraint 1. (that exactly 10 cells are filled), some other property that entails constraint 2. (that the input has a unique solution).\n",
    "\n",
    "*Hint:* If a Sudoku input can be solved using some [basic strategies](http://pi.math.cornell.edu/~mec/Summer2009/Mahmood/Solve.html), it must have a unique solution. Consider variants of these basic strategies for BombKnightSudoku."
   ]
  },
  {
   "cell_type": "code",
   "execution_count": null,
   "metadata": {
    "deletable": false,
    "nbgrader": {
     "cell_type": "code",
     "checksum": "6ae973657833bd3434f748a6f8883833",
     "grade": false,
     "grade_id": "cell-fb57584e65e58ba1",
     "locked": false,
     "schema_version": 3,
     "solution": true,
     "task": false
    }
   },
   "outputs": [],
   "source": [
    "def check_generator():\n",
    "    \"\"\"\n",
    "    Checks whether the BombKnightSudoku puzzle generator returns puzzles that\n",
    "    have a unique solution *and* have exactly 10 cells filled in.\n",
    "    \"\"\"\n",
    "    # YOUR CODE HERE\n",
    "    raise NotImplementedError()"
   ]
  },
  {
   "cell_type": "code",
   "execution_count": null,
   "metadata": {
    "deletable": false,
    "editable": false,
    "nbgrader": {
     "cell_type": "code",
     "checksum": "c1390535fee3482db2b5280592116321",
     "grade": true,
     "grade_id": "cell-d86460df48d77382",
     "locked": true,
     "points": 2,
     "schema_version": 3,
     "solution": false,
     "task": false
    }
   },
   "outputs": [],
   "source": [
    "# Test whether your function returns sudoku puzzles with unique solutions.\n"
   ]
  }
 ],
 "metadata": {
  "kernelspec": {
   "display_name": "Python 3",
   "language": "python",
   "name": "python3"
  },
  "language_info": {
   "codemirror_mode": {
    "name": "ipython",
    "version": 3
   },
   "file_extension": ".py",
   "mimetype": "text/x-python",
   "name": "python",
   "nbconvert_exporter": "python",
   "pygments_lexer": "ipython3",
   "version": "3.8.6"
  },
  "toc": {
   "base_numbering": 1,
   "nav_menu": {},
   "number_sections": true,
   "sideBar": true,
   "skip_h1_title": false,
   "title_cell": "Table of Contents",
   "title_sidebar": "Contents",
   "toc_cell": false,
   "toc_position": {},
   "toc_section_display": true,
   "toc_window_display": true
  }
 },
 "nbformat": 4,
 "nbformat_minor": 4
}
